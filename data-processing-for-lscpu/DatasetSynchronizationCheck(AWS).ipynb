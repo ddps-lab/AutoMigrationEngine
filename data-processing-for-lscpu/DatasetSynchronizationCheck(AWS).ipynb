{
 "cells": [
  {
   "attachments": {},
   "cell_type": "markdown",
   "metadata": {},
   "source": [
    "### lscpu/CPU(s) visualization.csv의 데이터셋에서 더 이상 지원되지 않는 인스턴스, 지원하나 데이터셋에 누락된 인스턴스를 검사"
   ]
  },
  {
   "cell_type": "code",
   "execution_count": 1,
   "metadata": {},
   "outputs": [
    {
     "data": {
      "text/html": [
       "\n",
       "            <style>\n",
       "                div#notebook-container      { width: 99%}\n",
       "                div#menubar-container       { width: 99%}\n",
       "                div#maintoolbar-container   { width: 99%}\n",
       "            </style>\n",
       "        "
      ],
      "text/plain": [
       "<IPython.core.display.HTML object>"
      ]
     },
     "metadata": {},
     "output_type": "display_data"
    }
   ],
   "source": [
    "# 코드 자동완성 허용\n",
    "%config Completer.use_jedi = False\n",
    "\n",
    "# cell 너비 확장\n",
    "from IPython.display import display, HTML\n",
    "\n",
    "display(\n",
    "    HTML(\n",
    "        data=\"\"\"\n",
    "            <style>\n",
    "                div#notebook-container      { width: 99%}\n",
    "                div#menubar-container       { width: 99%}\n",
    "                div#maintoolbar-container   { width: 99%}\n",
    "            </style>\n",
    "        \"\"\"\n",
    "    )\n",
    ")"
   ]
  },
  {
   "cell_type": "code",
   "execution_count": 2,
   "metadata": {},
   "outputs": [],
   "source": [
    "# import library\n",
    "from IPython.display import display\n",
    "import pandas as pd\n",
    "pd.set_option('display.max_columns', None) # Unlimiting Output Length\n",
    "pd.set_option('display.max_row', None) # Unlimiting Output Length\n",
    "pd.set_option('display.max_colwidth', None) # Unlimiting Output Column Width Length\n",
    "\n",
    "import gspread as gs\n",
    "from gspread_formatting import *\n",
    "\n",
    "import boto3"
   ]
  },
  {
   "cell_type": "code",
   "execution_count": 40,
   "metadata": {},
   "outputs": [
    {
     "name": "stdout",
     "output_type": "stream",
     "text": [
      "Number of all instances : 626\n",
      "Number of createable x86_64 instances : 467\n",
      "Number of createable arm64 instances : 123\n",
      "Number of unsupported instances : 36\n"
     ]
    }
   ],
   "source": [
    "# EC2 클라이언트 생성\n",
    "ec2_client = boto3.client('ec2', region_name = 'us-west-2')\n",
    "\n",
    "createable_x86_64_instances = []\n",
    "createable_arm64_instances = []\n",
    "unsupported_instances = []\n",
    "next_token = None\n",
    "\n",
    "while True:\n",
    "    # 인스턴스 타입 정보 가져오기\n",
    "    if next_token:\n",
    "        response = ec2_client.describe_instance_types(NextToken=next_token)\n",
    "    else:\n",
    "        response = ec2_client.describe_instance_types()\n",
    "\n",
    "    # 현재 페이지의 인스턴스 유형 이름 추가\n",
    "    for instance_type in response['InstanceTypes']:\n",
    "        if instance_type['CurrentGeneration']:\n",
    "            architectures = instance_type['ProcessorInfo']['SupportedArchitectures']\n",
    "            if 'x86_64' in architectures:\n",
    "                createable_x86_64_instances.append(instance_type['InstanceType'])\n",
    "            elif 'arm64' in architectures:\n",
    "                createable_arm64_instances.append(instance_type['InstanceType'])\n",
    "        else:\n",
    "            unsupported_instances.append(instance_type['InstanceType'])\n",
    "\n",
    "    # 다음 페이지 토큰 설정\n",
    "    next_token = response.get('NextToken', None)\n",
    "\n",
    "    # 다음 페이지 토큰이 없으면 종료\n",
    "    if not next_token:\n",
    "        break\n",
    "\n",
    "print(f\"Number of all instances : {len(createable_x86_64_instances) + len(createable_arm64_instances) + len(unsupported_instances)}\")\n",
    "print(f\"Number of createable x86_64 instances : {len(createable_x86_64_instances)}\")\n",
    "print(f\"Number of createable arm64 instances : {len(createable_arm64_instances)}\")\n",
    "print(f\"Number of unsupported instances : {len(unsupported_instances)}\")\n"
   ]
  },
  {
   "cell_type": "code",
   "execution_count": 28,
   "metadata": {},
   "outputs": [
    {
     "name": "stdout",
     "output_type": "stream",
     "text": [
      "[['m2.xlarge', 'm2.2xlarge', 'm2.4xlarge'], ['m1.large', 'm1.xlarge'], ['c3.large', 'r3.large', 'm3.large', 'r3.xlarge', 'c3.xlarge', 'm3.xlarge', 'r3.2xlarge', 'm3.2xlarge', 'c3.2xlarge', 'r3.4xlarge', 'c3.4xlarge', 'r3.8xlarge', 'c3.8xlarge'], ['m5a.large', 'r5a.large', 'r5ad.large', 'm5ad.large', 't3a.medium', 't3a.xlarge', 'm5a.xlarge', 'r5a.xlarge', 'm5ad.xlarge', 'r5ad.xlarge', 't3a.2xlarge', 'm5a.2xlarge', 'r5a.2xlarge', 'r5ad.2xlarge', 'm5ad.2xlarge', 'm5a.4xlarge', 'm5ad.4xlarge', 'r5a.4xlarge', 'r5ad.4xlarge', 'r5ad.8xlarge', 'r5a.8xlarge', 'm5a.8xlarge', 'm5ad.8xlarge', 'm5a.16xlarge', 'r5a.16xlarge', 'r5ad.16xlarge', 'm5ad.16xlarge'], ['c5ad.large', 'c5a.large', 'c5ad.xlarge', 'c5a.xlarge', 'c5ad.2xlarge', 'c5a.2xlarge', 'c5ad.4xlarge', 'c5a.4xlarge', 'c5a.8xlarge', 'c5ad.8xlarge', 'c5ad.16xlarge', 'c5a.16xlarge'], ['t2.large', 'c4.large', 'm4.large', 'c4.xlarge', 'm4.xlarge', 'm4.2xlarge', 'c4.2xlarge', 't2.2xlarge', 'm4.4xlarge', 'c4.4xlarge'], ['r6a.large', 'c6a.large', 'm6a.large', 'c6a.xlarge', 'r6a.xlarge', 'm6a.xlarge', 'r6a.2xlarge', 'c6a.2xlarge', 'm6a.2xlarge', 'r6a.4xlarge', 'c6a.4xlarge', 'm6a.4xlarge', 'c6a.8xlarge', 'r6a.8xlarge', 'm6a.8xlarge', 'c6a.16xlarge', 'r6a.16xlarge', 'm6a.16xlarge'], ['c6in.large', 'r6id.large', 'r6in.large', 'c6id.large', 'r6idn.large', 'm6id.large', 'i4i.large', 'm6in.large', 'm6idn.large', 'm6i.large', 'c6i.large', 'r6i.large', 'c6id.xlarge', 'r6id.xlarge', 'm6in.xlarge', 'i4i.xlarge', 'c6in.xlarge', 'r6in.xlarge', 'm6id.xlarge', 'r6idn.xlarge', 'm6idn.xlarge', 'i4i.2xlarge', 'r6in.2xlarge', 'r6id.2xlarge', 'm6in.2xlarge', 'm6id.2xlarge', 'm6idn.2xlarge', 'r6idn.2xlarge', 'c6in.2xlarge', 'r6i.2xlarge', 'm6i.2xlarge', 'c6i.2xlarge', 'c6id.2xlarge', 'r6in.4xlarge', 'm6in.4xlarge', 'r6i.4xlarge', 'c6i.4xlarge', 'c6id.4xlarge', 'm6id.4xlarge', 'r6id.4xlarge', 'c6in.4xlarge', 'i4i.4xlarge', 'm6idn.4xlarge', 'r6idn.4xlarge', 'm6i.4xlarge', 'r6in.8xlarge', 'm6idn.8xlarge', 'r6idn.8xlarge', 'm6in.8xlarge', 'c6id.8xlarge', 'c6i.8xlarge', 'm6i.8xlarge', 'c6in.8xlarge', 'm6id.8xlarge', 'r6id.8xlarge', 'i4i.8xlarge', 'r6i.8xlarge'], ['c5.large', 'm5d.large', 'r5d.large', 'i3en.large', 'r5.large', 't3.medium', 'm5d.xlarge', 't3.xlarge', 'r5d.xlarge', 'c5.xlarge', 'm5.xlarge', 'i3en.xlarge', 'r5d.2xlarge', 'm5d.2xlarge', 'c5.2xlarge', 'm5.2xlarge', 'r5.2xlarge', 'c5.4xlarge', 'r5.4xlarge', 'm5.4xlarge', 'r5.8xlarge', 'r5d.8xlarge', 'm5d.16xlarge', 'r5.16xlarge', 'r5d.16xlarge'], ['m5zn.large', 'r5dn.large', 'r5b.large', 'm5dn.large', 'm5n.large', 'r5n.large', 'r5b.xlarge', 'm5dn.xlarge', 'r5dn.xlarge', 'm5zn.xlarge', 'r5n.xlarge', 'r5dn.2xlarge', 'r5b.2xlarge', 'm5zn.2xlarge', 'm5dn.2xlarge', 'm5n.2xlarge', 'r5n.2xlarge', 'r5dn.4xlarge', 'm5dn.4xlarge', 'r5b.4xlarge', 'r5n.4xlarge', 'm5n.4xlarge', 'r5dn.8xlarge', 'r5n.8xlarge', 'r5b.8xlarge', 'm5n.8xlarge', 'm5dn.8xlarge', 'r5b.16xlarge', 'r5dn.16xlarge', 'r5n.16xlarge', 'm5dn.16xlarge', 'm5n.16xlarge'], ['r4.large', 'i3.large', 'r4.xlarge', 'i3.xlarge', 'r4.2xlarge', 'i3.2xlarge', 'i3.4xlarge', 'r4.4xlarge'], ['z1d.large', 'c5d.large', 'c5n.large', 'm5.large', 'z1d.xlarge', 'c5d.xlarge', 'c5n.xlarge', 'z1d.2xlarge', 'c5d.2xlarge', 'i3en.2xlarge', 'c5n.2xlarge', 't3.2xlarge', 'm5d.4xlarge', 'r5d.4xlarge', 'c5n.4xlarge', 'c5d.4xlarge', 'm5d.8xlarge', 'm5.8xlarge', 'm5.16xlarge'], ['m6idn.16xlarge', 'm6i.16xlarge', 'c6id.16xlarge', 'r6idn.16xlarge', 'r6id.16xlarge', 'i4i.16xlarge', 'c6in.16xlarge', 'm6id.16xlarge', 'm6in.16xlarge', 'c6i.16xlarge', 'r6in.16xlarge', 'r6i.16xlarge'], ['m4.16xlarge'], ['r4.8xlarge', 'i3.8xlarge', 'r4.16xlarge', 'i3.16xlarge']]\n"
     ]
    }
   ],
   "source": [
    "# read google spread sheet(core features)\n",
    "\n",
    "gc = gs.service_account(filename='./secure-outpost-380004-8d45b1504f3e.json')\n",
    "\n",
    "sheet = gc.open('CPU Feature Visualization').worksheet('groupby aws(core)')\n",
    "df = pd.DataFrame(sheet.get_all_records())\n",
    "featureGroups = df['feature groups'].tolist()\n",
    "groups = []\n",
    "\n",
    "for i in range(len(featureGroups)):\n",
    "    groups.append(featureGroups[i].split(\", \"))\n",
    "\n",
    "print(groups)"
   ]
  },
  {
   "cell_type": "code",
   "execution_count": 41,
   "metadata": {},
   "outputs": [
    {
     "name": "stdout",
     "output_type": "stream",
     "text": [
      "['m2.xlarge', 'm2.2xlarge', 'm2.4xlarge', 'm1.large', 'm1.xlarge', 'c3.large', 'r3.large', 'm3.large', 'r3.xlarge', 'c3.xlarge', 'm3.xlarge', 'r3.2xlarge', 'm3.2xlarge', 'c3.2xlarge', 'r3.4xlarge', 'c3.4xlarge', 'r3.8xlarge', 'c3.8xlarge']\n",
      "Number of unsupported instances extracted from the dataset: 18\n",
      "\n",
      "['r6in.12xlarge', 'i3en.3xlarge', 'c6in.24xlarge', 'm6idn.12xlarge', 'x2iedn.xlarge', 'm5dn.12xlarge', 'x2iedn.2xlarge', 'trn1.32xlarge', 'g5.4xlarge', 'g3.16xlarge', 'i3en.12xlarge', 'm5ad.12xlarge', 'r6i.xlarge', 'x1e.8xlarge', 'x2iezn.4xlarge', 'r5.24xlarge', 'd3en.2xlarge', 'c6a.24xlarge', 'c6a.48xlarge', 'c6i.32xlarge', 'r6in.metal', 'r5ad.24xlarge', 'r6in.24xlarge', 'f1.2xlarge', 'i3en.24xlarge', 'c5ad.24xlarge', 'r6a.metal', 'x1e.2xlarge', 'g5.2xlarge', 'd2.8xlarge', 'r5n.12xlarge', 'r5b.12xlarge', 'd3.8xlarge', 'm6i.24xlarge', 'x2iezn.8xlarge', 'c5d.12xlarge', 'r5b.metal', 'x2idn.24xlarge', 'c6in.12xlarge', 'm6a.metal', 'trn1.2xlarge', 'c6a.32xlarge', 't3a.small', 'm5zn.6xlarge', 'r6a.12xlarge', 'c5ad.12xlarge', 'm5d.metal', 'r6i.24xlarge', 'm6in.32xlarge', 'm6id.32xlarge', 'm5.12xlarge', 'm6in.24xlarge', 'g4dn.metal', 'm5.metal', 'm6id.12xlarge', 'r6idn.24xlarge', 'c6id.24xlarge', 'd2.2xlarge', 'g4ad.4xlarge', 'i4i.metal', 'inf1.xlarge', 'r5a.12xlarge', 'g4ad.8xlarge', 'm5.24xlarge', 'r6id.12xlarge', 'c4.8xlarge', 'g4ad.2xlarge', 'x1.16xlarge', 'c6i.24xlarge', 'x1e.32xlarge', 'r6a.32xlarge', 'd3en.8xlarge', 'g5.24xlarge', 'r5ad.12xlarge', 'm6in.12xlarge', 'c5a.12xlarge', 'inf1.2xlarge', 'm5n.12xlarge', 'm6i.metal', 'g4dn.12xlarge', 'c6a.12xlarge', 'c5a.24xlarge', 'm5zn.3xlarge', 'd3en.4xlarge', 'c5n.9xlarge', 'u-3tb1.56xlarge', 'd3.2xlarge', 'g3.8xlarge', 'inf1.6xlarge', 'h1.8xlarge', 'r5.metal', 'h1.2xlarge', 'r5b.24xlarge', 'r6id.32xlarge', 't3.large', 'd3.xlarge', 'r5dn.metal', 'r6id.24xlarge', 'c5d.24xlarge', 'g5.12xlarge', 'd3en.6xlarge', 'vt1.3xlarge', 'c5.12xlarge', 'g3.4xlarge', 'u-6tb1.56xlarge', 'x2iedn.metal', 'vt1.6xlarge', 'u-12tb1.112xlarge', 'p3.2xlarge', 't2.micro', 'p2.8xlarge', 'c5.24xlarge', 't3a.large', 't3.nano', 'm5dn.metal', 'h1.4xlarge', 'm6idn.32xlarge', 'c5.metal', 'c6id.32xlarge', 'g4dn.xlarge', 'm6in.metal', 'r6a.48xlarge', 'c6id.metal', 'x2idn.16xlarge', 'x2iedn.4xlarge', 'c6a.metal', 'r5d.24xlarge', 'x2iezn.12xlarge', 'm6id.metal', 'm6idn.24xlarge', 'r5.xlarge', 'c5d.18xlarge', 'm5d.24xlarge', 'r6in.32xlarge', 'c5.9xlarge', 'm5zn.12xlarge', 'm6i.32xlarge', 'm5n.metal', 'u-6tb1.112xlarge', 'r5n.24xlarge', 'm5ad.24xlarge', 'g5.16xlarge', 'p4d.24xlarge', 't3.micro', 'c5n.18xlarge', 'm5zn.metal', 'h1.16xlarge', 'x2idn.metal', 'm5dn.24xlarge', 'm6i.xlarge', 'm5n.xlarge', 'r6idn.metal', 'm4.10xlarge', 'r6a.24xlarge', 'x2iezn.2xlarge', 'r5.12xlarge', 'r5d.metal', 'z1d.metal', 'z1d.12xlarge', 'r6i.metal', 't2.medium', 'vt1.24xlarge', 'c6in.32xlarge', 'c6id.12xlarge', 'r6idn.32xlarge', 'm5d.12xlarge', 'm6idn.metal', 'g4dn.16xlarge', 'x2iezn.6xlarge', 'r6id.metal', 'r5dn.12xlarge', 'dl1.24xlarge', 'r6i.12xlarge', 'x2iezn.metal', 'd2.4xlarge', 'c5d.metal', 'z1d.6xlarge', 'x2idn.32xlarge', 'm5n.24xlarge', 'g4ad.16xlarge', 'g5.xlarge', 'c5n.metal', 'p3.16xlarge', 'x2iedn.16xlarge', 't2.xlarge', 'x1e.16xlarge', 'r6i.32xlarge', 'g4dn.8xlarge', 'd3.4xlarge', 'inf1.24xlarge', 'u-18tb1.112xlarge', 'x1e.xlarge', 'x2iedn.8xlarge', 'z1d.3xlarge', 'p3dn.24xlarge', 'f1.16xlarge', 'c6i.xlarge', 'r5d.12xlarge', 'x1.32xlarge', 'i3.metal', 'm6a.32xlarge', 'g5.8xlarge', 'p3.8xlarge', 'p2.xlarge', 'g5.48xlarge', 'i4i.32xlarge', 'f1.4xlarge', 'x2iedn.24xlarge', 'p2.16xlarge', 'm6id.24xlarge', 'x1e.4xlarge', 't3.small', 't3a.nano', 'c6i.metal', 'x2iedn.32xlarge', 'r6idn.12xlarge', 'm6a.24xlarge', 'g4ad.xlarge', 'g3s.xlarge', 'c6i.12xlarge', 'm5a.24xlarge', 'u-9tb1.112xlarge', 't2.nano', 'r5a.24xlarge', 't2.small', 'c5.18xlarge', 'i3en.metal', 'c5d.9xlarge', 'd3en.xlarge', 'm6a.48xlarge', 'd3en.12xlarge', 't3a.micro', 'd2.xlarge', 'm6a.12xlarge', 'g4dn.2xlarge', 'r5n.metal', 'm5a.12xlarge', 'g4dn.4xlarge', 'c6in.metal', 'm6i.12xlarge', 'i3en.6xlarge', 'r5dn.24xlarge']\n",
      "Number of non-existent x86_64 instances extracted from the dataset: 242\n",
      "\n",
      "['im4gn.8xlarge', 'is4gen.4xlarge', 'c6g.16xlarge', 'm7g.4xlarge', 'm7g.large', 'x2gd.8xlarge', 'im4gn.2xlarge', 'r6gd.medium', 'r6g.16xlarge', 'r6gd.xlarge', 'c7g.8xlarge', 'c6gd.metal', 'm6gd.4xlarge', 'x2gd.metal', 't4g.nano', 'r6g.medium', 'm6gd.12xlarge', 'r6g.large', 'c6gn.16xlarge', 'm6gd.xlarge', 'r6g.8xlarge', 'r6gd.2xlarge', 'is4gen.xlarge', 'm6gd.medium', 'm6gd.metal', 'c6gn.xlarge', 'x2gd.4xlarge', 'r7g.metal', 'c6g.xlarge', 'c6g.12xlarge', 'c7g.xlarge', 'm6g.metal', 'c7g.4xlarge', 'c6gn.4xlarge', 'm6g.xlarge', 'c7g.16xlarge', 'm7g.12xlarge', 'r7g.medium', 't4g.medium', 'r6gd.large', 'im4gn.xlarge', 'm7g.16xlarge', 'x2gd.2xlarge', 'c6gn.12xlarge', 'm7g.8xlarge', 'c6gd.16xlarge', 'r7g.xlarge', 'r6g.12xlarge', 'c6g.large', 'r6gd.metal', 'r6gd.4xlarge', 'm6gd.16xlarge', 'x2gd.16xlarge', 'x2gd.medium', 'c6gn.medium', 'r7g.2xlarge', 'g5g.2xlarge', 't4g.2xlarge', 'r6g.4xlarge', 'g5g.16xlarge', 'c7g.medium', 't4g.micro', 'x2gd.12xlarge', 'r7g.8xlarge', 'm6g.8xlarge', 'x2gd.large', 't4g.large', 'c7g.2xlarge', 'is4gen.2xlarge', 'm7g.xlarge', 't4g.small', 'x2gd.xlarge', 'm6g.4xlarge', 'm6g.large', 'g5g.metal', 't4g.xlarge', 'g5g.8xlarge', 'r7g.4xlarge', 'c6gd.xlarge', 'm6g.12xlarge', 'im4gn.4xlarge', 'm6g.16xlarge', 'r6gd.16xlarge', 'r6gd.8xlarge', 'r6g.xlarge', 'c7g.large', 'm7g.metal', 'm7g.medium', 'is4gen.large', 'c6gn.8xlarge', 'c7g.metal', 'c6gn.large', 'm7g.2xlarge', 'm6gd.8xlarge', 'im4gn.large', 'c6gn.2xlarge', 'c6g.medium', 'c7g.12xlarge', 'm6gd.large', 'm6gd.2xlarge', 'r7g.16xlarge', 'r7g.12xlarge', 'c6g.8xlarge', 'r6g.metal', 'c6g.2xlarge', 'c6g.4xlarge', 'c6gd.medium', 'c6gd.2xlarge', 'c6gd.8xlarge', 'c6gd.large', 'c6gd.4xlarge', 'is4gen.8xlarge', 'r7g.large', 'r6gd.12xlarge', 'im4gn.16xlarge', 'is4gen.medium', 'g5g.4xlarge', 'm6g.2xlarge', 'r6g.2xlarge', 'm6g.medium', 'c6gd.12xlarge', 'g5g.xlarge', 'c6g.metal']\n",
      "Number of non-existent arm64 instances extracted from the dataset: 123\n",
      "\n"
     ]
    }
   ],
   "source": [
    "unsupported = []\n",
    "not_exist_x86_64 = []\n",
    "not_exist_arm64 = []\n",
    "\n",
    "for group in groups:\n",
    "    for instance in group:\n",
    "        if instance in unsupported_instances:\n",
    "            unsupported.append(instance)\n",
    "\n",
    "for instance_type, instance_list in [(\"x86_64\", createable_x86_64_instances), (\"arm64\", createable_arm64_instances)]:\n",
    "    for instance in instance_list:\n",
    "        if not any(instance in group for group in groups):\n",
    "            if instance_type == \"x86_64\":\n",
    "                not_exist_x86_64.append(instance)\n",
    "            else:\n",
    "                not_exist_arm64.append(instance)\n",
    "\n",
    "print(unsupported)\n",
    "print(f'Number of unsupported instances extracted from the dataset: {len(unsupported)}\\n')\n",
    "print(not_exist_x86_64)\n",
    "print(f'Number of non-existent x86_64 instances extracted from the dataset: {len(not_exist_x86_64)}\\n')\n",
    "print(not_exist_arm64)\n",
    "print(f'Number of non-existent arm64 instances extracted from the dataset: {len(not_exist_arm64)}\\n')\n"
   ]
  }
 ],
 "metadata": {
  "kernelspec": {
   "display_name": "base",
   "language": "python",
   "name": "python3"
  },
  "language_info": {
   "codemirror_mode": {
    "name": "ipython",
    "version": 3
   },
   "file_extension": ".py",
   "mimetype": "text/x-python",
   "name": "python",
   "nbconvert_exporter": "python",
   "pygments_lexer": "ipython3",
   "version": "3.9.13"
  },
  "orig_nbformat": 4
 },
 "nbformat": 4,
 "nbformat_minor": 2
}

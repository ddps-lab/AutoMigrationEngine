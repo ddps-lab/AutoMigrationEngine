{
 "cells": [
  {
   "attachments": {},
   "cell_type": "markdown",
   "metadata": {},
   "source": [
    "### 테스트케이스를 줄이기 위해 실험셋을 간소화함\n",
    "\n",
    "#### 간소화 방식\n",
    "1. 그룹 내 같은 타입의 인스턴스 중 가장 작은 인스턴스 선택\n",
    "    * m5.large, m5.4xlarge, m5.16xlarge가 있다면 m5.large만 선택함\n",
    "2. 오리지널 타입(m5, t3와 같은)과 a, g, i 등 프로세서를 나타내는 심볼을 가진 타입들을 선택\n",
    "    * m5a, m5i가 있다면 둘 다 실험세트에 포함\n",
    "3. 오리지널 타입이 없는 경우 나머지 심볼을 가진 인스턴스 선택\n",
    "    * m5가 없는데 m5d가 있다면 m5d를 실험세트에 포함\n",
    "    * m5가 없고 m5d가 추가된 상황이라면 m5dn, m5b 등의 타입은 포함하지 않음\n",
    "4. 위 과정을 거치고 나서 인스턴스 수가 2개 미만인 그룹 제거\n",
    "    * 마이그레이션 타겟이 동일한 인스턴스가 될 것으로 실험 의미가 없음\n"
   ]
  },
  {
   "cell_type": "code",
   "execution_count": 119,
   "metadata": {},
   "outputs": [
    {
     "data": {
      "text/html": [
       "\n",
       "            <style>\n",
       "                div#notebook-container      { width: 99%}\n",
       "                div#menubar-container       { width: 99%}\n",
       "                div#maintoolbar-container   { width: 99%}\n",
       "            </style>\n",
       "        "
      ],
      "text/plain": [
       "<IPython.core.display.HTML object>"
      ]
     },
     "metadata": {},
     "output_type": "display_data"
    }
   ],
   "source": [
    "# 코드 자동완성 허용\n",
    "%config Completer.use_jedi = False\n",
    "\n",
    "# cell 너비 확장\n",
    "from IPython.display import display, HTML\n",
    "\n",
    "display(\n",
    "    HTML(\n",
    "        data=\"\"\"\n",
    "            <style>\n",
    "                div#notebook-container      { width: 99%}\n",
    "                div#menubar-container       { width: 99%}\n",
    "                div#maintoolbar-container   { width: 99%}\n",
    "            </style>\n",
    "        \"\"\"\n",
    "    )\n",
    ")"
   ]
  },
  {
   "cell_type": "code",
   "execution_count": 62,
   "metadata": {},
   "outputs": [],
   "source": [
    "# import library\n",
    "from IPython.display import display\n",
    "import pandas as pd\n",
    "pd.set_option('display.max_columns', None) # Unlimiting Output Length\n",
    "pd.set_option('display.max_row', None) # Unlimiting Output Length\n",
    "pd.set_option('display.max_colwidth', None) # Unlimiting Output Column Width Length\n",
    "\n",
    "import gspread as gs\n",
    "from gspread_formatting import *\n",
    "\n",
    "import re"
   ]
  },
  {
   "cell_type": "code",
   "execution_count": 5,
   "metadata": {},
   "outputs": [
    {
     "data": {
      "text/plain": [
       "0                                                                                                                                                                                                                                                                                                                                                                                                                          m5a.large, r5a.large, r5ad.large, m5ad.large, t3a.medium, t3a.xlarge, m5a.xlarge, r5a.xlarge, m5ad.xlarge, r5ad.xlarge, t3a.2xlarge, m5a.2xlarge, r5a.2xlarge, r5ad.2xlarge, m5ad.2xlarge, m5a.4xlarge, m5ad.4xlarge, r5a.4xlarge, r5ad.4xlarge, r5ad.8xlarge, r5a.8xlarge, m5a.8xlarge, m5ad.8xlarge, m5a.16xlarge, r5a.16xlarge, r5ad.16xlarge, m5ad.16xlarge\n",
       "1                                                                                                                                                                                                                                                                                                                                                                                                                                                                                                                                                                                                                             c5ad.large, c5a.large, c5ad.xlarge, c5a.xlarge, c5ad.2xlarge, c5a.2xlarge, c5ad.4xlarge, c5a.4xlarge, c5a.8xlarge, c5ad.8xlarge, c5ad.16xlarge, c5a.16xlarge\n",
       "2                                                                                                                                                                                                                                                                                                                                                                                                                                                                                                                                                                                                                                                                           t2.large, c4.large, m4.large, c4.xlarge, m4.xlarge, m4.2xlarge, c4.2xlarge, t2.2xlarge, m4.4xlarge, c4.4xlarge\n",
       "3                                                                                                                                                                                                                                                                                                                                                                                                                                                                                                                                                       r6a.large, c6a.large, m6a.large, c6a.xlarge, r6a.xlarge, m6a.xlarge, r6a.2xlarge, c6a.2xlarge, m6a.2xlarge, r6a.4xlarge, c6a.4xlarge, m6a.4xlarge, c6a.8xlarge, r6a.8xlarge, m6a.8xlarge, c6a.16xlarge, r6a.16xlarge, m6a.16xlarge\n",
       "4     c6in.large, r6id.large, r6in.large, c6id.large, r6idn.large, m6id.large, i4i.large, m6in.large, m6idn.large, m6i.large, c6i.large, r6i.large, c6id.xlarge, r6id.xlarge, m6in.xlarge, i4i.xlarge, c6in.xlarge, r6in.xlarge, m6id.xlarge, r6idn.xlarge, m6idn.xlarge, i4i.2xlarge, r6in.2xlarge, r6id.2xlarge, m6in.2xlarge, m6id.2xlarge, m6idn.2xlarge, r6idn.2xlarge, c6in.2xlarge, r6i.2xlarge, m6i.2xlarge, c6i.2xlarge, c6id.2xlarge, r6in.4xlarge, m6in.4xlarge, r6i.4xlarge, c6i.4xlarge, c6id.4xlarge, m6id.4xlarge, r6id.4xlarge, c6in.4xlarge, i4i.4xlarge, m6idn.4xlarge, r6idn.4xlarge, m6i.4xlarge, r6in.8xlarge, m6idn.8xlarge, r6idn.8xlarge, m6in.8xlarge, c6id.8xlarge, c6i.8xlarge, m6i.8xlarge, c6in.8xlarge, m6id.8xlarge, r6id.8xlarge, i4i.8xlarge, r6i.8xlarge\n",
       "5                                                                                                                                                                                                                                                                                                                                                                                                                                                                                c5.large, m5d.large, r5d.large, i3en.large, r5.large, t3.medium, m5d.xlarge, t3.xlarge, r5d.xlarge, c5.xlarge, m5.xlarge, i3en.xlarge, r5d.2xlarge, m5d.2xlarge, c5.2xlarge, m5.2xlarge, r5.2xlarge, c5.4xlarge, r5.4xlarge, m5.4xlarge, r5.8xlarge, r5d.8xlarge, m5d.16xlarge, r5.16xlarge, r5d.16xlarge\n",
       "6                                                                                                                                                                                                                                                                                                                                                        m5zn.large, r5dn.large, r5b.large, m5dn.large, m5n.large, r5n.large, r5b.xlarge, m5dn.xlarge, r5dn.xlarge, m5zn.xlarge, r5n.xlarge, r5dn.2xlarge, r5b.2xlarge, m5zn.2xlarge, m5dn.2xlarge, m5n.2xlarge, r5n.2xlarge, r5dn.4xlarge, m5dn.4xlarge, r5b.4xlarge, r5n.4xlarge, m5n.4xlarge, r5dn.8xlarge, r5n.8xlarge, r5b.8xlarge, m5n.8xlarge, m5dn.8xlarge, r5b.16xlarge, r5dn.16xlarge, r5n.16xlarge, m5dn.16xlarge, m5n.16xlarge\n",
       "7                                                                                                                                                                                                                                                                                                                                                                                                                                                                                                                                                                                                                                                                                                 r4.large, i3.large, r4.xlarge, i3.xlarge, r4.2xlarge, i3.2xlarge, i3.4xlarge, r4.4xlarge\n",
       "8                                                                                                                                                                                                                                                                                                                                                                                                                                                                                                                                                 z1d.large, c5d.large, c5n.large, m5.large, z1d.xlarge, c5d.xlarge, c5n.xlarge, z1d.2xlarge, c5d.2xlarge, i3en.2xlarge, c5n.2xlarge, t3.2xlarge, m5d.4xlarge, r5d.4xlarge, c5n.4xlarge, c5d.4xlarge, m5d.8xlarge, m5.8xlarge, m5.16xlarge\n",
       "9                                                                                                                                                                                                                                                                                                                                                                                                                                                                                                                                                                                                         m6idn.16xlarge, m6i.16xlarge, c6id.16xlarge, r6idn.16xlarge, r6id.16xlarge, i4i.16xlarge, c6in.16xlarge, m6id.16xlarge, m6in.16xlarge, c6i.16xlarge, r6in.16xlarge, r6i.16xlarge\n",
       "10                                                                                                                                                                                                                                                                                                                                                                                                                                                                                                                                                                                                                                                                                                                                                                             m4.16xlarge\n",
       "11                                                                                                                                                                                                                                                                                                                                                                                                                                                                                                                                                                                                                                                                                                                                        r4.8xlarge, i3.8xlarge, r4.16xlarge, i3.16xlarge\n",
       "Name: feature groups, dtype: object"
      ]
     },
     "execution_count": 5,
     "metadata": {},
     "output_type": "execute_result"
    }
   ],
   "source": [
    "# read google spread sheet(core features)\n",
    "\n",
    "gc = gs.service_account(filename='../secure-outpost-380004-8d45b1504f3e.json')\n",
    "\n",
    "sheet = gc.open('CPU Feature Visualization').worksheet('groupby aws(core)')\n",
    "df = pd.DataFrame(sheet.get_all_records())\n",
    "\n",
    "df = df['feature groups']\n",
    "df"
   ]
  },
  {
   "cell_type": "code",
   "execution_count": 73,
   "metadata": {},
   "outputs": [
    {
     "name": "stdout",
     "output_type": "stream",
     "text": [
      "[['m5a.large', 'r5a.large', 'r5ad.large', 'm5ad.large', 't3a.medium', 't3a.xlarge', 'm5a.xlarge', 'r5a.xlarge', 'm5ad.xlarge', 'r5ad.xlarge', 't3a.2xlarge', 'm5a.2xlarge', 'r5a.2xlarge', 'r5ad.2xlarge', 'm5ad.2xlarge', 'm5a.4xlarge', 'm5ad.4xlarge', 'r5a.4xlarge', 'r5ad.4xlarge', 'r5ad.8xlarge', 'r5a.8xlarge', 'm5a.8xlarge', 'm5ad.8xlarge', 'm5a.16xlarge', 'r5a.16xlarge', 'r5ad.16xlarge', 'm5ad.16xlarge'], ['c5ad.large', 'c5a.large', 'c5ad.xlarge', 'c5a.xlarge', 'c5ad.2xlarge', 'c5a.2xlarge', 'c5ad.4xlarge', 'c5a.4xlarge', 'c5a.8xlarge', 'c5ad.8xlarge', 'c5ad.16xlarge', 'c5a.16xlarge'], ['t2.large', 'c4.large', 'm4.large', 'c4.xlarge', 'm4.xlarge', 'm4.2xlarge', 'c4.2xlarge', 't2.2xlarge', 'm4.4xlarge', 'c4.4xlarge'], ['r6a.large', 'c6a.large', 'm6a.large', 'c6a.xlarge', 'r6a.xlarge', 'm6a.xlarge', 'r6a.2xlarge', 'c6a.2xlarge', 'm6a.2xlarge', 'r6a.4xlarge', 'c6a.4xlarge', 'm6a.4xlarge', 'c6a.8xlarge', 'r6a.8xlarge', 'm6a.8xlarge', 'c6a.16xlarge', 'r6a.16xlarge', 'm6a.16xlarge'], ['c6in.large', 'r6id.large', 'r6in.large', 'c6id.large', 'r6idn.large', 'm6id.large', 'i4i.large', 'm6in.large', 'm6idn.large', 'm6i.large', 'c6i.large', 'r6i.large', 'c6id.xlarge', 'r6id.xlarge', 'm6in.xlarge', 'i4i.xlarge', 'c6in.xlarge', 'r6in.xlarge', 'm6id.xlarge', 'r6idn.xlarge', 'm6idn.xlarge', 'i4i.2xlarge', 'r6in.2xlarge', 'r6id.2xlarge', 'm6in.2xlarge', 'm6id.2xlarge', 'm6idn.2xlarge', 'r6idn.2xlarge', 'c6in.2xlarge', 'r6i.2xlarge', 'm6i.2xlarge', 'c6i.2xlarge', 'c6id.2xlarge', 'r6in.4xlarge', 'm6in.4xlarge', 'r6i.4xlarge', 'c6i.4xlarge', 'c6id.4xlarge', 'm6id.4xlarge', 'r6id.4xlarge', 'c6in.4xlarge', 'i4i.4xlarge', 'm6idn.4xlarge', 'r6idn.4xlarge', 'm6i.4xlarge', 'r6in.8xlarge', 'm6idn.8xlarge', 'r6idn.8xlarge', 'm6in.8xlarge', 'c6id.8xlarge', 'c6i.8xlarge', 'm6i.8xlarge', 'c6in.8xlarge', 'm6id.8xlarge', 'r6id.8xlarge', 'i4i.8xlarge', 'r6i.8xlarge'], ['c5.large', 'm5d.large', 'r5d.large', 'i3en.large', 'r5.large', 't3.medium', 'm5d.xlarge', 't3.xlarge', 'r5d.xlarge', 'c5.xlarge', 'm5.xlarge', 'i3en.xlarge', 'r5d.2xlarge', 'm5d.2xlarge', 'c5.2xlarge', 'm5.2xlarge', 'r5.2xlarge', 'c5.4xlarge', 'r5.4xlarge', 'm5.4xlarge', 'r5.8xlarge', 'r5d.8xlarge', 'm5d.16xlarge', 'r5.16xlarge', 'r5d.16xlarge'], ['m5zn.large', 'r5dn.large', 'r5b.large', 'm5dn.large', 'm5n.large', 'r5n.large', 'r5b.xlarge', 'm5dn.xlarge', 'r5dn.xlarge', 'm5zn.xlarge', 'r5n.xlarge', 'r5dn.2xlarge', 'r5b.2xlarge', 'm5zn.2xlarge', 'm5dn.2xlarge', 'm5n.2xlarge', 'r5n.2xlarge', 'r5dn.4xlarge', 'm5dn.4xlarge', 'r5b.4xlarge', 'r5n.4xlarge', 'm5n.4xlarge', 'r5dn.8xlarge', 'r5n.8xlarge', 'r5b.8xlarge', 'm5n.8xlarge', 'm5dn.8xlarge', 'r5b.16xlarge', 'r5dn.16xlarge', 'r5n.16xlarge', 'm5dn.16xlarge', 'm5n.16xlarge'], ['r4.large', 'i3.large', 'r4.xlarge', 'i3.xlarge', 'r4.2xlarge', 'i3.2xlarge', 'i3.4xlarge', 'r4.4xlarge'], ['z1d.large', 'c5d.large', 'c5n.large', 'm5.large', 'z1d.xlarge', 'c5d.xlarge', 'c5n.xlarge', 'z1d.2xlarge', 'c5d.2xlarge', 'i3en.2xlarge', 'c5n.2xlarge', 't3.2xlarge', 'm5d.4xlarge', 'r5d.4xlarge', 'c5n.4xlarge', 'c5d.4xlarge', 'm5d.8xlarge', 'm5.8xlarge', 'm5.16xlarge'], ['m6idn.16xlarge', 'm6i.16xlarge', 'c6id.16xlarge', 'r6idn.16xlarge', 'r6id.16xlarge', 'i4i.16xlarge', 'c6in.16xlarge', 'm6id.16xlarge', 'm6in.16xlarge', 'c6i.16xlarge', 'r6in.16xlarge', 'r6i.16xlarge'], ['m4.16xlarge'], ['r4.8xlarge', 'i3.8xlarge', 'r4.16xlarge', 'i3.16xlarge']]\n"
     ]
    }
   ],
   "source": [
    "# df to list\n",
    "groups = []\n",
    "\n",
    "for i in range(len(df)):\n",
    "    groups.append(df.iloc[i].split(', '))\n",
    "\n",
    "print(groups)"
   ]
  },
  {
   "cell_type": "code",
   "execution_count": 131,
   "metadata": {},
   "outputs": [
    {
     "name": "stdout",
     "output_type": "stream",
     "text": [
      "['m5a.large', 'r5a.large', 'm5ad.large', 't3a.medium', 'r5ad.large']\n",
      "['c5ad.large', 'c5a.large']\n",
      "['c4.large', 't2.large', 'm4.large']\n",
      "['c6a.large', 'm6a.large', 'r6a.large']\n",
      "['r6i.large', 'm6idn.large', 'm6id.large', 'm6i.large', 'r6in.large', 'i4i.large', 'r6id.large', 'c6in.large', 'm6in.large', 'c6id.large', 'c6i.large', 'r6idn.large']\n",
      "['m5.xlarge', 'r5.large', 'r5d.large', 'm5d.large', 'i3en.large', 't3.medium', 'c5.large']\n",
      "['r5b.large', 'r5dn.large', 'm5n.large', 'm5dn.large', 'm5zn.large', 'r5n.large']\n",
      "['r4.large', 'i3.large']\n",
      "['m5.large', 'r5d.4xlarge', 'z1d.large', 'i3en.2xlarge', 'm5d.4xlarge', 'c5n.large', 't3.2xlarge', 'c5d.large']\n",
      "['r6i.16xlarge', 'm6idn.16xlarge', 'm6id.16xlarge', 'm6i.16xlarge', 'i4i.16xlarge', 'r6in.16xlarge', 'r6id.16xlarge', 'c6in.16xlarge', 'm6in.16xlarge', 'c6id.16xlarge', 'c6i.16xlarge', 'r6idn.16xlarge']\n",
      "['m4.16xlarge']\n",
      "['r4.8xlarge', 'i3.8xlarge']\n"
     ]
    }
   ],
   "source": [
    "sizelist = ['micro', 'small', 'medium', 'large', 'xlarge', '2xlarge', '4xlarge', '8xlarge', '16xlarge']\n",
    "newgroup = []\n",
    "newgroups = []\n",
    "typelist = []\n",
    "unduplicate = []\n",
    "\n",
    "# select the smallest instance size\n",
    "for group in groups:\n",
    "    # extract to instance type ex) m5.large -> m5\n",
    "    for instance in group:\n",
    "        typelist.append(instance[:instance.index('.')])\n",
    "\n",
    "    # delete duplicate\n",
    "    unduplicate = list(set(typelist))\n",
    "\n",
    "    # extract to smallest instance for unduplicate typelist\n",
    "    for i in range(len(unduplicate)):\n",
    "        pattern = '^' + unduplicate[i] + '\\.'\n",
    "        result = [instance for instance in group if re.match(pattern, instance)]\n",
    "\n",
    "        smallest_size = len(sizelist) - 1\n",
    "        smallest = 0\n",
    "        for j in range(len(result)):\n",
    "            size = result[j][result[j].index('.') + 1:]\n",
    "            if sizelist.index(size) < smallest_size:\n",
    "                smallest_size = sizelist.index(size)\n",
    "                smallest = j\n",
    "        # print(result)\n",
    "        newgroup.append(result[smallest])\n",
    "    print(newgroup)\n",
    "    newgroups.append(newgroup)\n",
    "    newgroup = []\n",
    "    typelist = []\n",
    "    unduplicate = []\n"
   ]
  },
  {
   "cell_type": "code",
   "execution_count": 195,
   "metadata": {},
   "outputs": [
    {
     "name": "stdout",
     "output_type": "stream",
     "text": [
      "['m5a.large', 'm5ad.large', 'r5a.large', 'r5ad.large', 't3a.medium']\n",
      "['c5a.large', 'c5ad.large']\n",
      "['c4.large', 'm4.large', 't2.large']\n",
      "['c6a.large', 'm6a.large', 'r6a.large']\n",
      "['c6i.large', 'c6id.large', 'c6in.large', 'i4i.large', 'm6i.large', 'm6id.large', 'm6idn.large', 'm6in.large', 'r6i.large', 'r6id.large', 'r6idn.large', 'r6in.large']\n",
      "['c5.large', 'i3en.large', 'm5.xlarge', 'm5d.large', 'r5.large', 'r5d.large', 't3.medium']\n",
      "['m5dn.large', 'm5n.large', 'm5zn.large', 'r5b.large', 'r5dn.large', 'r5n.large']\n",
      "['i3.large', 'r4.large']\n",
      "['c5d.large', 'c5n.large', 'i3en.2xlarge', 'm5.large', 'm5d.4xlarge', 'r5d.4xlarge', 't3.2xlarge', 'z1d.large']\n",
      "['c6i.16xlarge', 'c6id.16xlarge', 'c6in.16xlarge', 'i4i.16xlarge', 'm6i.16xlarge', 'm6id.16xlarge', 'm6idn.16xlarge', 'm6in.16xlarge', 'r6i.16xlarge', 'r6id.16xlarge', 'r6idn.16xlarge', 'r6in.16xlarge']\n",
      "['m4.16xlarge']\n",
      "['i3.8xlarge', 'r4.8xlarge']\n",
      "\n",
      "['m5a.large', 'r5a.large', 't3a.medium']\n",
      "['c4.large', 'm4.large', 't2.large']\n",
      "['c6a.large', 'm6a.large', 'r6a.large']\n",
      "['c6i.large', 'i4i.large', 'm6i.large', 'r6i.large']\n",
      "['c5.large', 'm5.xlarge', 'r5.large', 't3.medium', 'i3en.large']\n",
      "['m5dn.large', 'r5b.large']\n",
      "['i3.large', 'r4.large']\n",
      "['m5.large', 't3.2xlarge', 'c5d.large', 'i3en.2xlarge', 'r5d.4xlarge', 'z1d.large']\n",
      "['c6i.16xlarge', 'i4i.16xlarge', 'm6i.16xlarge', 'r6i.16xlarge']\n",
      "['i3.8xlarge', 'r4.8xlarge']\n",
      "[1, 10]\n"
     ]
    }
   ],
   "source": [
    "simplized_group = []\n",
    "# Simplify instance types by processor type\n",
    "for group in newgroups:\n",
    "    tempgroup = []\n",
    "    print(group)\n",
    "    for instance in group:\n",
    "        instance_group_name = instance[:instance.index('.')]\n",
    "\n",
    "        if len(instance_group_name) == 2:\n",
    "            tempgroup.append(instance)\n",
    "            continue\n",
    "\n",
    "        if len(instance_group_name) == 3 and instance_group_name[2] in {'a', 'i', 'g'}:\n",
    "            tempgroup.append(instance)\n",
    "            continue\n",
    "    \n",
    "    for instance in group:\n",
    "        instance_group_name = instance[:instance.index('.')]\n",
    "\n",
    "        if instance in tempgroup:\n",
    "            continue\n",
    "    \n",
    "        if len(instance_group_name) > 3 and instance_group_name[2] in {'a', 'i', 'g'}:\n",
    "            if instance[:3] + instance[instance.index('.'):] not in tempgroup:\n",
    "                tempgroup.append(instance)\n",
    "        else:\n",
    "            pattern = '^' + instance[:2] + '.'\n",
    "            result = [instance for instance in tempgroup if re.match(pattern, instance)]\n",
    "            if(len(result) == 0):\n",
    "                tempgroup.append(instance)\n",
    "    simplized_group.append(tempgroup)\n",
    "\n",
    "final_experiment_set = []\n",
    "deleted_index = []\n",
    "# Remove a group with 1 instance\n",
    "i = 0\n",
    "for sublist in simplized_group:\n",
    "    if len(sublist) > 1:\n",
    "        final_experiment_set.append(sublist)\n",
    "    else:\n",
    "        deleted_index.append(i)\n",
    "    i += 1\n",
    "        \n",
    "\n",
    "print()\n",
    "for group in final_experiment_set:\n",
    "    print(group)\n",
    "\n",
    "print(deleted_index)\n",
    "\n"
   ]
  },
  {
   "cell_type": "code",
   "execution_count": 219,
   "metadata": {},
   "outputs": [
    {
     "data": {
      "text/plain": [
       "{'spreadsheetId': '17V0eoAl-4STj_KoQ5SOf2wRohbt6LxovyQ2HDvIxt-c',\n",
       " 'replies': [{}]}"
      ]
     },
     "execution_count": 219,
     "metadata": {},
     "output_type": "execute_result"
    }
   ],
   "source": [
    "# read google spread sheet(core features)\n",
    "\n",
    "gc = gs.service_account(filename='../secure-outpost-380004-8d45b1504f3e.json')\n",
    "\n",
    "sheet = gc.open('CPU Feature Visualization').worksheet('groupby aws(core)')\n",
    "df = pd.DataFrame(sheet.get_all_records())\n",
    "\n",
    "for index in sorted(deleted_index, reverse = True):\n",
    "    df = df.drop(index)\n",
    "\n",
    "df = df.reset_index()\n",
    "df.drop('index', axis=1, inplace=True)\n",
    "for i in range(len(final_experiment_set)):\n",
    "    df.at[i, 'feature groups'] = ', '.join(final_experiment_set[i])\n",
    "\n",
    "# write google spread sheet1(core features)\n",
    "\n",
    "gc = gs.service_account(filename='../secure-outpost-380004-8d45b1504f3e.json')\n",
    "\n",
    "sheet = gc.open('CPU Feature Visualization').worksheet('simplized aws group(core)')\n",
    "sheet.clear() # 이전 데이터 삭제\n",
    "sheet.update([df.columns.values.tolist()] + df.values.tolist())\n",
    "\n",
    "format_cell = cellFormat(\n",
    "    verticalAlignment='MIDDLE', \n",
    "    wrapStrategy='OVERFLOW_CELL', \n",
    "    textFormat=textFormat(fontSize=10)\n",
    ")\n",
    "\n",
    "format_cell_range(sheet, '1:500', format_cell)"
   ]
  }
 ],
 "metadata": {
  "kernelspec": {
   "display_name": "base",
   "language": "python",
   "name": "python3"
  },
  "language_info": {
   "codemirror_mode": {
    "name": "ipython",
    "version": 3
   },
   "file_extension": ".py",
   "mimetype": "text/x-python",
   "name": "python",
   "nbconvert_exporter": "python",
   "pygments_lexer": "ipython3",
   "version": "3.9.13"
  },
  "orig_nbformat": 4,
  "vscode": {
   "interpreter": {
    "hash": "e5ece47aa796bed967a775c636ae07ff34d683534b0bc588cd16dfa0fe0c4533"
   }
  }
 },
 "nbformat": 4,
 "nbformat_minor": 2
}

{
 "cells": [
  {
   "cell_type": "code",
   "execution_count": 1,
   "metadata": {},
   "outputs": [
    {
     "data": {
      "text/html": [
       "\n",
       "            <style>\n",
       "                div#notebook-container      { width: 99%}\n",
       "                div#menubar-container       { width: 99%}\n",
       "                div#maintoolbar-container   { width: 99%}\n",
       "            </style>\n",
       "        "
      ],
      "text/plain": [
       "<IPython.core.display.HTML object>"
      ]
     },
     "metadata": {},
     "output_type": "display_data"
    }
   ],
   "source": [
    "# 코드 자동완성 허용\n",
    "%config Completer.use_jedi = False\n",
    "\n",
    "# cell 너비 확장\n",
    "from IPython.display import display, HTML\n",
    "\n",
    "display(\n",
    "    HTML(\n",
    "        data=\"\"\"\n",
    "            <style>\n",
    "                div#notebook-container      { width: 99%}\n",
    "                div#menubar-container       { width: 99%}\n",
    "                div#maintoolbar-container   { width: 99%}\n",
    "            </style>\n",
    "        \"\"\"\n",
    "    )\n",
    ")"
   ]
  },
  {
   "cell_type": "code",
   "execution_count": 2,
   "metadata": {},
   "outputs": [],
   "source": [
    "# import library\n",
    "from IPython.display import display\n",
    "import pandas as pd\n",
    "pd.set_option('display.max_columns', None) # Unlimiting Output Length\n",
    "pd.set_option('display.max_row', None) # Unlimiting Output Length\n",
    "pd.set_option('display.max_colwidth', None) # Unlimiting Output Column Width Length\n",
    "\n",
    "import gspread as gs\n",
    "from gspread_formatting import *\n",
    "\n",
    "# import math library\n",
    "from math import *\n",
    "from decimal import Decimal\n",
    "\n",
    "import numpy as np\n",
    "\n",
    "# clustering & visualization\n",
    "import matplotlib.pyplot as plt\n",
    "from scipy.cluster.hierarchy import dendrogram, linkage"
   ]
  },
  {
   "cell_type": "code",
   "execution_count": 3,
   "metadata": {},
   "outputs": [
    {
     "name": "stdout",
     "output_type": "stream",
     "text": [
      "3.503\n"
     ]
    }
   ],
   "source": [
    "# Python3 program to find Minkowski distance\n",
    "\n",
    "# Function distance between two points\n",
    "# and calculate distance value to given\n",
    "# root value(p is root value)\n",
    "def p_root(value, root):\n",
    "\t\n",
    "\troot_value = 1 / float(root)\n",
    "\treturn round (Decimal(value) **\n",
    "\t\t\tDecimal(root_value), 3)\n",
    "\n",
    "def minkowski_distance(x, y, p_value):\n",
    "\t\n",
    "\t# pass the p_root function to calculate\n",
    "\t# all the value of vector parallelly\n",
    "\treturn (p_root(sum(pow(abs(a-b), p_value)\n",
    "\t\t\tfor a, b in zip(x, y)), p_value))\n",
    "\n",
    "# Driver Code\n",
    "vector1 = [0, 2, 3, 4]\n",
    "vector2 = [2, 4, 3, 7]\n",
    "p = 3\n",
    "print(minkowski_distance(vector1, vector2, p))\n"
   ]
  },
  {
   "cell_type": "code",
   "execution_count": 4,
   "metadata": {},
   "outputs": [
    {
     "name": "stdout",
     "output_type": "stream",
     "text": [
      "[[0, 0, 0, 0, 0, 0, 0, 0, 0, 0, 0, 0, 0, 0, 0, 0, 0, 0, 0, 0, 0, 0, 0, 0, 0, 0, 0, 0, 0, 0, 0, 0, 0, 0, 0, 0, 0, 0, 0, 0, 0, 0, 0, 0, 0, 1], [1, 0, 0, 1, 0, 0, 0, 1, 1, 0, 0, 0, 0, 1, 0, 0, 0, 0, 0, 0, 0, 0, 0, 0, 0, 0, 0, 0, 0, 0, 0, 0, 0, 0, 0, 0, 1, 0, 0, 0, 0, 0, 0, 0, 0, 1], [1, 0, 0, 1, 1, 1, 1, 1, 1, 0, 0, 0, 0, 1, 0, 0, 0, 0, 0, 0, 0, 0, 0, 0, 0, 0, 0, 0, 0, 0, 0, 0, 0, 0, 0, 0, 1, 0, 0, 0, 0, 0, 1, 0, 0, 1], [1, 0, 1, 1, 1, 1, 1, 1, 1, 1, 0, 1, 1, 0, 0, 0, 0, 0, 1, 1, 1, 0, 1, 0, 0, 0, 0, 0, 0, 0, 0, 0, 0, 0, 0, 1, 1, 1, 1, 1, 1, 1, 1, 1, 1, 1], [1, 0, 1, 1, 1, 1, 1, 1, 1, 1, 0, 1, 1, 0, 0, 0, 0, 0, 1, 1, 1, 0, 1, 0, 0, 0, 0, 0, 0, 0, 0, 0, 0, 0, 1, 1, 1, 1, 1, 1, 1, 0, 1, 1, 1, 1], [1, 0, 1, 1, 1, 1, 1, 1, 1, 1, 0, 1, 1, 0, 0, 0, 0, 0, 1, 1, 1, 0, 1, 0, 0, 0, 0, 0, 0, 0, 0, 0, 0, 0, 1, 1, 1, 1, 1, 1, 1, 1, 1, 1, 1, 1], [1, 0, 1, 1, 1, 1, 1, 1, 1, 1, 0, 1, 1, 0, 0, 0, 0, 0, 1, 1, 1, 0, 1, 0, 0, 0, 0, 0, 1, 1, 0, 0, 0, 0, 1, 1, 1, 1, 1, 1, 1, 1, 1, 1, 1, 1], [1, 0, 1, 1, 1, 1, 1, 1, 1, 1, 0, 1, 1, 1, 0, 0, 0, 0, 0, 0, 0, 0, 0, 0, 0, 0, 0, 0, 0, 0, 0, 0, 0, 0, 0, 0, 1, 1, 0, 0, 0, 0, 1, 0, 0, 1], [1, 0, 1, 1, 1, 1, 1, 1, 1, 1, 0, 1, 1, 1, 0, 0, 0, 0, 1, 1, 1, 0, 1, 0, 0, 0, 0, 0, 0, 0, 0, 0, 0, 0, 1, 1, 1, 1, 1, 1, 1, 1, 1, 1, 1, 1], [1, 0, 1, 1, 1, 1, 1, 1, 1, 1, 0, 1, 1, 1, 0, 0, 0, 0, 1, 1, 1, 0, 1, 0, 0, 0, 0, 0, 1, 1, 0, 0, 0, 0, 1, 1, 1, 1, 1, 1, 1, 1, 1, 1, 1, 1], [1, 0, 1, 1, 1, 1, 1, 1, 1, 1, 0, 1, 1, 1, 0, 0, 1, 1, 1, 1, 1, 1, 1, 1, 1, 1, 1, 1, 1, 1, 1, 1, 1, 1, 1, 0, 1, 1, 0, 0, 1, 0, 1, 1, 1, 1], [1, 0, 1, 1, 1, 1, 1, 1, 1, 1, 0, 1, 1, 1, 0, 1, 1, 1, 1, 1, 1, 1, 0, 1, 1, 0, 0, 0, 0, 0, 0, 0, 0, 0, 0, 0, 1, 1, 0, 0, 1, 0, 1, 1, 1, 1], [1, 0, 1, 1, 1, 1, 1, 1, 1, 1, 0, 1, 1, 1, 0, 1, 1, 1, 1, 1, 1, 1, 0, 1, 1, 0, 0, 0, 0, 0, 1, 0, 0, 0, 0, 0, 1, 1, 0, 0, 1, 0, 1, 1, 1, 1], [1, 0, 1, 1, 1, 1, 1, 1, 1, 1, 1, 1, 1, 1, 1, 0, 0, 0, 1, 1, 0, 0, 0, 0, 0, 0, 0, 0, 0, 0, 0, 0, 0, 0, 0, 0, 1, 1, 0, 0, 1, 0, 1, 0, 0, 1], [1, 0, 1, 1, 1, 1, 1, 1, 1, 1, 1, 1, 1, 1, 1, 0, 1, 1, 1, 1, 1, 1, 0, 1, 1, 0, 0, 0, 0, 0, 0, 0, 0, 0, 0, 0, 1, 1, 0, 0, 1, 0, 1, 1, 0, 1], [1, 0, 1, 1, 1, 1, 1, 1, 1, 1, 1, 1, 1, 1, 1, 0, 1, 1, 1, 1, 1, 1, 0, 1, 1, 0, 0, 0, 0, 0, 1, 0, 0, 0, 0, 0, 1, 1, 0, 0, 1, 0, 1, 1, 1, 1], [1, 0, 1, 1, 1, 1, 1, 1, 1, 1, 1, 1, 1, 1, 1, 0, 1, 1, 1, 1, 1, 1, 1, 1, 1, 1, 1, 1, 1, 1, 1, 1, 0, 1, 1, 0, 1, 1, 0, 0, 1, 0, 1, 1, 1, 1], [1, 0, 1, 1, 1, 1, 1, 1, 1, 1, 1, 1, 1, 1, 1, 1, 1, 1, 1, 1, 1, 1, 0, 1, 1, 0, 0, 0, 0, 0, 0, 0, 0, 0, 0, 0, 1, 1, 0, 0, 1, 0, 1, 1, 0, 1], [1, 0, 1, 1, 1, 1, 1, 1, 1, 1, 1, 1, 1, 1, 1, 1, 1, 1, 1, 1, 1, 1, 0, 1, 1, 0, 0, 0, 0, 0, 0, 0, 0, 0, 0, 0, 1, 1, 0, 0, 1, 0, 1, 1, 1, 1], [1, 0, 1, 1, 1, 1, 1, 1, 1, 1, 1, 1, 1, 1, 1, 1, 1, 1, 1, 1, 1, 1, 0, 1, 1, 0, 0, 0, 0, 0, 1, 0, 0, 0, 0, 0, 1, 1, 0, 0, 1, 0, 1, 1, 1, 1], [1, 1, 1, 1, 1, 1, 1, 1, 1, 1, 0, 1, 1, 1, 0, 0, 1, 1, 1, 1, 1, 1, 1, 1, 1, 1, 1, 1, 1, 1, 1, 1, 1, 1, 1, 0, 1, 1, 0, 0, 1, 0, 1, 1, 1, 1], [1, 1, 1, 1, 1, 1, 1, 1, 1, 1, 1, 1, 1, 1, 1, 0, 0, 0, 0, 0, 0, 0, 0, 0, 0, 0, 0, 0, 0, 0, 0, 0, 0, 0, 0, 0, 1, 1, 0, 0, 0, 0, 1, 0, 0, 1], [1, 1, 1, 1, 1, 1, 1, 1, 1, 1, 1, 1, 1, 1, 1, 0, 0, 0, 1, 1, 0, 0, 0, 0, 0, 0, 0, 0, 0, 0, 0, 0, 0, 0, 0, 0, 1, 1, 0, 0, 1, 0, 1, 0, 0, 1]]\n"
     ]
    }
   ],
   "source": [
    "# read google spread sheet(core features)\n",
    "\n",
    "gc = gs.service_account(filename='../secure-outpost-380004-8d45b1504f3e.json')\n",
    "\n",
    "sheet = gc.open('CPU Feature Visualization').worksheet('feature groups(core)')\n",
    "df = pd.DataFrame(sheet.get_all_records())\n",
    "\n",
    "df = df.drop('feature groups', axis=1)\n",
    "df = df.drop('Flags', axis=1)\n",
    "\n",
    "# 모든 값이 1로 이루어진 임의의 축 z 정의\n",
    "df['z'] = 1\n",
    "# df['z2'] = 1\n",
    "# df['z3'] = 1\n",
    "# df['z4'] = 1\n",
    "# df['z5'] = 1\n",
    "\n",
    "values = []\n",
    "for i in range(len(df)):\n",
    "    values.append(df.iloc[i].tolist())\n",
    "\n",
    "print(values)"
   ]
  },
  {
   "cell_type": "code",
   "execution_count": 5,
   "metadata": {},
   "outputs": [
    {
     "name": "stdout",
     "output_type": "stream",
     "text": [
      "[0, 0, 0, 0, 0, 0, 0, 0, 0, 0, 0, 0, 0, 0, 0, 0, 0, 0, 0, 0, 0, 0, 0, 0, 0, 0, 0, 0, 0, 0, 0, 0, 0, 0, 0, 0, 0, 0, 0, 0, 0, 0, 0, 0, 0, 1]\n",
      "[1, 0, 0, 1, 0, 0, 0, 1, 1, 0, 0, 0, 0, 1, 0, 0, 0, 0, 0, 0, 0, 0, 0, 0, 0, 0, 0, 0, 0, 0, 0, 0, 0, 0, 0, 0, 1, 0, 0, 0, 0, 0, 0, 0, 0, 1]\n",
      "[1, 0, 0, 1, 1, 1, 1, 1, 1, 0, 0, 0, 0, 1, 0, 0, 0, 0, 0, 0, 0, 0, 0, 0, 0, 0, 0, 0, 0, 0, 0, 0, 0, 0, 0, 0, 1, 0, 0, 0, 0, 0, 1, 0, 0, 1]\n",
      "[1, 0, 1, 1, 1, 1, 1, 1, 1, 1, 0, 1, 1, 0, 0, 0, 0, 0, 1, 1, 1, 0, 1, 0, 0, 0, 0, 0, 0, 0, 0, 0, 0, 0, 0, 1, 1, 1, 1, 1, 1, 1, 1, 1, 1, 1]\n",
      "[1, 0, 1, 1, 1, 1, 1, 1, 1, 1, 0, 1, 1, 0, 0, 0, 0, 0, 1, 1, 1, 0, 1, 0, 0, 0, 0, 0, 0, 0, 0, 0, 0, 0, 1, 1, 1, 1, 1, 1, 1, 0, 1, 1, 1, 1]\n",
      "[1, 0, 1, 1, 1, 1, 1, 1, 1, 1, 0, 1, 1, 0, 0, 0, 0, 0, 1, 1, 1, 0, 1, 0, 0, 0, 0, 0, 0, 0, 0, 0, 0, 0, 1, 1, 1, 1, 1, 1, 1, 1, 1, 1, 1, 1]\n",
      "[1, 0, 1, 1, 1, 1, 1, 1, 1, 1, 0, 1, 1, 0, 0, 0, 0, 0, 1, 1, 1, 0, 1, 0, 0, 0, 0, 0, 1, 1, 0, 0, 0, 0, 1, 1, 1, 1, 1, 1, 1, 1, 1, 1, 1, 1]\n",
      "[1, 0, 1, 1, 1, 1, 1, 1, 1, 1, 0, 1, 1, 1, 0, 0, 0, 0, 0, 0, 0, 0, 0, 0, 0, 0, 0, 0, 0, 0, 0, 0, 0, 0, 0, 0, 1, 1, 0, 0, 0, 0, 1, 0, 0, 1]\n",
      "[1, 0, 1, 1, 1, 1, 1, 1, 1, 1, 0, 1, 1, 1, 0, 0, 0, 0, 1, 1, 1, 0, 1, 0, 0, 0, 0, 0, 0, 0, 0, 0, 0, 0, 1, 1, 1, 1, 1, 1, 1, 1, 1, 1, 1, 1]\n",
      "[1, 0, 1, 1, 1, 1, 1, 1, 1, 1, 0, 1, 1, 1, 0, 0, 0, 0, 1, 1, 1, 0, 1, 0, 0, 0, 0, 0, 1, 1, 0, 0, 0, 0, 1, 1, 1, 1, 1, 1, 1, 1, 1, 1, 1, 1]\n",
      "[1, 0, 1, 1, 1, 1, 1, 1, 1, 1, 0, 1, 1, 1, 0, 0, 1, 1, 1, 1, 1, 1, 1, 1, 1, 1, 1, 1, 1, 1, 1, 1, 1, 1, 1, 0, 1, 1, 0, 0, 1, 0, 1, 1, 1, 1]\n",
      "[1, 0, 1, 1, 1, 1, 1, 1, 1, 1, 0, 1, 1, 1, 0, 1, 1, 1, 1, 1, 1, 1, 0, 1, 1, 0, 0, 0, 0, 0, 0, 0, 0, 0, 0, 0, 1, 1, 0, 0, 1, 0, 1, 1, 1, 1]\n",
      "[1, 0, 1, 1, 1, 1, 1, 1, 1, 1, 0, 1, 1, 1, 0, 1, 1, 1, 1, 1, 1, 1, 0, 1, 1, 0, 0, 0, 0, 0, 1, 0, 0, 0, 0, 0, 1, 1, 0, 0, 1, 0, 1, 1, 1, 1]\n",
      "[1, 0, 1, 1, 1, 1, 1, 1, 1, 1, 1, 1, 1, 1, 1, 0, 0, 0, 1, 1, 0, 0, 0, 0, 0, 0, 0, 0, 0, 0, 0, 0, 0, 0, 0, 0, 1, 1, 0, 0, 1, 0, 1, 0, 0, 1]\n",
      "[1, 0, 1, 1, 1, 1, 1, 1, 1, 1, 1, 1, 1, 1, 1, 0, 1, 1, 1, 1, 1, 1, 0, 1, 1, 0, 0, 0, 0, 0, 0, 0, 0, 0, 0, 0, 1, 1, 0, 0, 1, 0, 1, 1, 0, 1]\n",
      "[1, 0, 1, 1, 1, 1, 1, 1, 1, 1, 1, 1, 1, 1, 1, 0, 1, 1, 1, 1, 1, 1, 0, 1, 1, 0, 0, 0, 0, 0, 1, 0, 0, 0, 0, 0, 1, 1, 0, 0, 1, 0, 1, 1, 1, 1]\n",
      "[1, 0, 1, 1, 1, 1, 1, 1, 1, 1, 1, 1, 1, 1, 1, 0, 1, 1, 1, 1, 1, 1, 1, 1, 1, 1, 1, 1, 1, 1, 1, 1, 0, 1, 1, 0, 1, 1, 0, 0, 1, 0, 1, 1, 1, 1]\n",
      "[1, 0, 1, 1, 1, 1, 1, 1, 1, 1, 1, 1, 1, 1, 1, 1, 1, 1, 1, 1, 1, 1, 0, 1, 1, 0, 0, 0, 0, 0, 0, 0, 0, 0, 0, 0, 1, 1, 0, 0, 1, 0, 1, 1, 0, 1]\n",
      "[1, 0, 1, 1, 1, 1, 1, 1, 1, 1, 1, 1, 1, 1, 1, 1, 1, 1, 1, 1, 1, 1, 0, 1, 1, 0, 0, 0, 0, 0, 0, 0, 0, 0, 0, 0, 1, 1, 0, 0, 1, 0, 1, 1, 1, 1]\n",
      "[1, 0, 1, 1, 1, 1, 1, 1, 1, 1, 1, 1, 1, 1, 1, 1, 1, 1, 1, 1, 1, 1, 0, 1, 1, 0, 0, 0, 0, 0, 1, 0, 0, 0, 0, 0, 1, 1, 0, 0, 1, 0, 1, 1, 1, 1]\n",
      "[1, 1, 1, 1, 1, 1, 1, 1, 1, 1, 0, 1, 1, 1, 0, 0, 1, 1, 1, 1, 1, 1, 1, 1, 1, 1, 1, 1, 1, 1, 1, 1, 1, 1, 1, 0, 1, 1, 0, 0, 1, 0, 1, 1, 1, 1]\n",
      "[1, 1, 1, 1, 1, 1, 1, 1, 1, 1, 1, 1, 1, 1, 1, 0, 0, 0, 0, 0, 0, 0, 0, 0, 0, 0, 0, 0, 0, 0, 0, 0, 0, 0, 0, 0, 1, 1, 0, 0, 0, 0, 1, 0, 0, 1]\n",
      "[1, 1, 1, 1, 1, 1, 1, 1, 1, 1, 1, 1, 1, 1, 1, 0, 0, 0, 1, 1, 0, 0, 0, 0, 0, 0, 0, 0, 0, 0, 0, 0, 0, 0, 0, 0, 1, 1, 0, 0, 1, 0, 1, 0, 0, 1]\n",
      "[[1.         0.37796447 0.30151134 0.19611614 0.19611614 0.19245009\n",
      "  0.18569534 0.25       0.18898224 0.18257419 0.16222142 0.18898224\n",
      "  0.18569534 0.21821789 0.18898224 0.18257419 0.16012815 0.18569534\n",
      "  0.18257419 0.1796053  0.16012815 0.22941573 0.21320072]\n",
      " [0.37796447 1.         0.79772404 0.44474959 0.44474959 0.43643578\n",
      "  0.42111744 0.66143783 0.5        0.48304589 0.42919754 0.5\n",
      "  0.49130368 0.57735027 0.5        0.48304589 0.42365927 0.49130368\n",
      "  0.48304589 0.47519096 0.42365927 0.60697698 0.56407607]\n",
      " [0.30151134 0.79772404 1.         0.5913124  0.5913124  0.58025885\n",
      "  0.55989251 0.8291562  0.62678317 0.60553007 0.53802759 0.62678317\n",
      "  0.61588176 0.72374686 0.62678317 0.60553007 0.531085   0.61588176\n",
      "  0.60553007 0.5956834  0.531085   0.76088591 0.70710678]\n",
      " [0.19611614 0.44474959 0.5913124  1.         0.96153846 0.98130676\n",
      "  0.94686415 0.73543551 0.96362411 0.93094934 0.69991324 0.77831178\n",
      "  0.76477489 0.77032889 0.74124932 0.75192062 0.69088172 0.72835704\n",
      "  0.75192062 0.73969345 0.69088172 0.67488191 0.75261781]\n",
      " [0.19611614 0.44474959 0.5913124  0.96153846 1.         0.98130676\n",
      "  0.94686415 0.73543551 0.96362411 0.93094934 0.73172748 0.77831178\n",
      "  0.76477489 0.77032889 0.74124932 0.75192062 0.72228544 0.72835704\n",
      "  0.75192062 0.73969345 0.72228544 0.67488191 0.75261781]\n",
      " [0.19245009 0.43643578 0.58025885 0.98130676 0.98130676 1.\n",
      "  0.96490128 0.72168784 0.98198051 0.9486833  0.71804912 0.76376262\n",
      "  0.75047877 0.75592895 0.72739297 0.73786479 0.70878358 0.71474169\n",
      "  0.73786479 0.72586619 0.70878358 0.66226618 0.73854895]\n",
      " [0.18569534 0.42111744 0.55989251 0.94686415 0.94686415 0.96490128\n",
      "  1.         0.69635752 0.94751425 0.98319208 0.75309404 0.73695553\n",
      "  0.72413793 0.72939681 0.70186241 0.71196668 0.74337629 0.68965517\n",
      "  0.71196668 0.70038921 0.74337629 0.63902148 0.71262682]\n",
      " [0.25       0.66143783 0.8291562  0.73543551 0.73543551 0.72168784\n",
      "  0.69635752 1.         0.75592895 0.73029674 0.64888568 0.75592895\n",
      "  0.74278135 0.87287156 0.75592895 0.73029674 0.64051262 0.74278135\n",
      "  0.73029674 0.71842121 0.64051262 0.91766294 0.85280287]\n",
      " [0.18898224 0.5        0.62678317 0.96362411 0.96362411 0.98198051\n",
      "  0.94751425 0.75592895 1.         0.96609178 0.73576721 0.78571429\n",
      "  0.77204865 0.78354679 0.75       0.75907212 0.72627304 0.73695553\n",
      "  0.75907212 0.74672866 0.72627304 0.69368798 0.76553182]\n",
      " [0.18257419 0.48304589 0.60553007 0.93094934 0.93094934 0.9486833\n",
      "  0.98319208 0.73029674 0.96609178 1.         0.77005354 0.75907212\n",
      "  0.74586985 0.75697812 0.72456884 0.73333333 0.76011695 0.71196668\n",
      "  0.73333333 0.72140842 0.76011695 0.67016625 0.739574  ]\n",
      " [0.16222142 0.42919754 0.53802759 0.69991324 0.73172748 0.71804912\n",
      "  0.75309404 0.64888568 0.73576721 0.77005354 1.         0.82773811\n",
      "  0.84346533 0.67259271 0.79708114 0.82928843 0.96112002 0.7832178\n",
      "  0.79967098 0.81580317 0.98709623 0.59545834 0.65712874]\n",
      " [0.18898224 0.5        0.62678317 0.77831178 0.77831178 0.76376262\n",
      "  0.73695553 0.75592895 0.78571429 0.75907212 0.82773811 1.\n",
      "  0.98260737 0.78354679 0.92857143 0.93158851 0.81705717 0.94751425\n",
      "  0.96609178 0.95038193 0.81705717 0.69368798 0.76553182]\n",
      " [0.18569534 0.49130368 0.61588176 0.76477489 0.76477489 0.75047877\n",
      "  0.72413793 0.74278135 0.77204865 0.74586985 0.84346533 0.98260737\n",
      "  1.         0.76991885 0.91242113 0.94928891 0.83258145 0.93103448\n",
      "  0.94928891 0.96720415 0.83258145 0.68162292 0.7522172 ]\n",
      " [0.21821789 0.57735027 0.72374686 0.77032889 0.77032889 0.75592895\n",
      "  0.72939681 0.87287156 0.78354679 0.75697812 0.67259271 0.78354679\n",
      "  0.76991885 1.         0.8660254  0.83666003 0.73379939 0.85096294\n",
      "  0.83666003 0.82305489 0.66391373 0.90112711 0.97700842]\n",
      " [0.18898224 0.5        0.62678317 0.74124932 0.74124932 0.72739297\n",
      "  0.70186241 0.75592895 0.75       0.72456884 0.79708114 0.92857143\n",
      "  0.91242113 0.8660254  1.         0.96609178 0.84731855 0.98260737\n",
      "  0.96609178 0.95038193 0.78679579 0.78039897 0.84611411]\n",
      " [0.18257419 0.48304589 0.60553007 0.75192062 0.75192062 0.73786479\n",
      "  0.71196668 0.73029674 0.75907212 0.73333333 0.82928843 0.93158851\n",
      "  0.94928891 0.83666003 0.96609178 1.         0.87705802 0.94928891\n",
      "  0.96666667 0.98373875 0.81858748 0.75393703 0.81742389]\n",
      " [0.16012815 0.42365927 0.531085   0.69088172 0.72228544 0.70878358\n",
      "  0.74337629 0.64051262 0.72627304 0.76011695 0.96112002 0.81705717\n",
      "  0.83258145 0.73379939 0.84731855 0.87705802 1.         0.83258145\n",
      "  0.84782275 0.86279596 0.94871795 0.66124652 0.71692818]\n",
      " [0.18569534 0.49130368 0.61588176 0.72835704 0.72835704 0.71474169\n",
      "  0.68965517 0.74278135 0.73695553 0.71196668 0.7832178  0.94751425\n",
      "  0.93103448 0.85096294 0.98260737 0.94928891 0.83258145 1.\n",
      "  0.98319208 0.96720415 0.77311134 0.76682578 0.83139796]\n",
      " [0.18257419 0.48304589 0.60553007 0.75192062 0.75192062 0.73786479\n",
      "  0.71196668 0.73029674 0.75907212 0.73333333 0.79967098 0.96609178\n",
      "  0.94928891 0.83666003 0.96609178 0.96666667 0.84782275 0.98319208\n",
      "  1.         0.98373875 0.78935222 0.75393703 0.81742389]\n",
      " [0.1796053  0.47519096 0.5956834  0.73969345 0.73969345 0.72586619\n",
      "  0.70038921 0.71842121 0.74672866 0.72140842 0.81580317 0.95038193\n",
      "  0.96720415 0.82305489 0.95038193 0.98373875 0.86279596 0.96720415\n",
      "  0.98373875 1.         0.80527623 0.74167708 0.80413156]\n",
      " [0.16012815 0.42365927 0.531085   0.69088172 0.72228544 0.70878358\n",
      "  0.74337629 0.64051262 0.72627304 0.76011695 0.98709623 0.81705717\n",
      "  0.83258145 0.66391373 0.78679579 0.81858748 0.94871795 0.77311134\n",
      "  0.78935222 0.80527623 1.         0.6245106  0.68278874]\n",
      " [0.22941573 0.60697698 0.76088591 0.67488191 0.67488191 0.66226618\n",
      "  0.63902148 0.91766294 0.69368798 0.67016625 0.59545834 0.69368798\n",
      "  0.68162292 0.90112711 0.78039897 0.75393703 0.66124652 0.76682578\n",
      "  0.75393703 0.74167708 0.6245106  1.         0.92932038]\n",
      " [0.21320072 0.56407607 0.70710678 0.75261781 0.75261781 0.73854895\n",
      "  0.71262682 0.85280287 0.76553182 0.739574   0.65712874 0.76553182\n",
      "  0.7522172  0.97700842 0.84611411 0.81742389 0.71692818 0.83139796\n",
      "  0.81742389 0.80413156 0.68278874 0.92932038 1.        ]]\n"
     ]
    }
   ],
   "source": [
    "matrix = []\n",
    "for value in values:\n",
    "    row = []\n",
    "    print(value)\n",
    "    for i in range(len(values)):\n",
    "        cosine_sim = np.dot(value, values[i]) / (np.linalg.norm(value) * np.linalg.norm(values[i]))\n",
    "        row.append(cosine_sim)\n",
    "    matrix.append(row)\n",
    "\n",
    "print(np.array(matrix))"
   ]
  },
  {
   "cell_type": "code",
   "execution_count": 6,
   "metadata": {},
   "outputs": [
    {
     "data": {
      "image/png": "[encoded data removed]",
      "text/plain": [
       "<Figure size 640x480 with 1 Axes>"
      ]
     },
     "metadata": {},
     "output_type": "display_data"
    }
   ],
   "source": [
    "linkage_data = linkage(values, method='single', metric='cosine')\n",
    "dendrogram(linkage_data)\n",
    "\n",
    "plt.show()"
   ]
  }
 ],
 "metadata": {
  "kernelspec": {
   "display_name": "base",
   "language": "python",
   "name": "python3"
  },
  "language_info": {
   "codemirror_mode": {
    "name": "ipython",
    "version": 3
   },
   "file_extension": ".py",
   "mimetype": "text/x-python",
   "name": "python",
   "nbconvert_exporter": "python",
   "pygments_lexer": "ipython3",
   "version": "3.9.13"
  },
  "orig_nbformat": 4
 },
 "nbformat": 4,
 "nbformat_minor": 2
}
